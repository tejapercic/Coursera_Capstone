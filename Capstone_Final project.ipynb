{
    "nbformat_minor": 1, 
    "cells": [
        {
            "source": "### 1.\tBUSINESS PROBLEM\nThe European Union (EU) is a political and economic union of 28 member states that are located primarily in Europe. It has an area of 4,475,757 km2 (1,728,099 sq mi) and an estimated population of about 513 million. The EU has developed an internal single market through a standardised system of laws that apply in all member states in those matters, and only those matters, where members have agreed to act as one.\n\nI live in one of EU member states, but am interested to see, weather another member state can offer me better living conditions in terms of housing costs and availability of venues nearby.\n\nReal estate prices and rents vary considerably, not just between and within EU Member States, but also at a more local/regional level. Nevertheless, housing is often the largest single item in a household budget, irrespective of whether the occupants are paying off a mortgage/loan or renting a property. \n\nI'd like to live in a city which offers a lot of venues for young people and is still affordable when it comes to housing prices. To figure out which city in europe offers the best ratio between price and number of venues i will use Forsquare data to get the information on nearby venues and housing price data form Eurostat (a statistical agency of the EU). I will use the data of the average price for buying an apartment in EU cities in 2017. \n\nI will try to analyze data (housing costs) to see the top 10 cities with the lowest prices and then compare them based on venue data. The city with the most venues would be the best match for me.", 
            "cell_type": "markdown", 
            "metadata": {
                "collapsed": true
            }
        }, 
        {
            "source": "### 2.\tDATA DESCRIPTION\nBased on the definition of the problem, i will need:\n1. List of EU cities and prices for buying an apartment in each city, which is available on Eurostat website (csv table downloaded from https://ec.europa.eu/eurostat/web/cities/data/database).\nThe data is for the year 2017. I will exclude cities that don't have pricing data. \n2. For each citiy we will need to get the list of coordinates (latitude, longitude). \nDownload of a csv file with coordinates of european cities is available on: https://www.clearlyandsimply.com/clearly_and_simply/2010/10/geocoding-databases-for-europe.html.\n3. Number of existing Venues from every category in each city, within a certain radius from the center of the city. \nWith the use of Forsquare API i will get data on nearby venues for the list of european cities. Then I will drop cities with less than 50 venues to keep only those which have most venues.", 
            "cell_type": "markdown", 
            "metadata": {}
        }, 
        {
            "execution_count": null, 
            "cell_type": "code", 
            "metadata": {}, 
            "outputs": [], 
            "source": ""
        }
    ], 
    "metadata": {
        "kernelspec": {
            "display_name": "Python 3.5", 
            "name": "python3", 
            "language": "python"
        }, 
        "language_info": {
            "mimetype": "text/x-python", 
            "nbconvert_exporter": "python", 
            "version": "3.5.5", 
            "name": "python", 
            "file_extension": ".py", 
            "pygments_lexer": "ipython3", 
            "codemirror_mode": {
                "version": 3, 
                "name": "ipython"
            }
        }
    }, 
    "nbformat": 4
}